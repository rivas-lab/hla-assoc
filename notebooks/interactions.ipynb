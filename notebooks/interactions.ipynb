{
 "cells": [
  {
   "cell_type": "code",
   "execution_count": 12,
   "metadata": {},
   "outputs": [],
   "source": [
    "import numpy as np\n",
    "import os\n",
    "import pandas as pd\n",
    "import rpy2.robjects as robjects\n",
    "import time"
   ]
  },
  {
   "cell_type": "code",
   "execution_count": 2,
   "metadata": {},
   "outputs": [],
   "source": [
    "outpath = \"output/interactions/\""
   ]
  },
  {
   "cell_type": "markdown",
   "metadata": {},
   "source": [
    "# Get phenotypes with at least two significant associatons"
   ]
  },
  {
   "cell_type": "code",
   "execution_count": 3,
   "metadata": {},
   "outputs": [
    {
     "data": {
      "text/plain": [
       "48"
      ]
     },
     "execution_count": 3,
     "metadata": {},
     "output_type": "execute_result"
    }
   ],
   "source": [
    "# get list of significant HC phenotypes\n",
    "f = open(\"output/compare_cutoff_pvals/sig_phe_HC.txt\",\"r\")\n",
    "sig_phes = f.readline().split()\n",
    "f.close()\n",
    "\n",
    "# get list of significant cancer phenotypes\n",
    "f = open(\"output/compare_cutoff_pvals/sig_phe_cancer.txt\",\"r\")\n",
    "sig_phes += f.readline().split()\n",
    "f.close()\n",
    "\n",
    "len(sig_phes)"
   ]
  },
  {
   "cell_type": "markdown",
   "metadata": {},
   "source": [
    "# Find which analyses have finished"
   ]
  },
  {
   "cell_type": "code",
   "execution_count": 34,
   "metadata": {},
   "outputs": [
    {
     "data": {
      "text/plain": [
       "47"
      ]
     },
     "execution_count": 34,
     "metadata": {},
     "output_type": "execute_result"
    }
   ],
   "source": [
    "fin_phes = []\n",
    "for file in os.listdir(\"../scripts/output/interact/\"):\n",
    "    if file.endswith(\".txt\"):\n",
    "        fin_phes.append(file.split(\"_\")[0])\n",
    "        #print(os.path.join(\"/mydir\", file))\n",
    "len(fin_phes)"
   ]
  },
  {
   "cell_type": "markdown",
   "metadata": {},
   "source": [
    "# Find missing"
   ]
  },
  {
   "cell_type": "code",
   "execution_count": 35,
   "metadata": {},
   "outputs": [
    {
     "data": {
      "text/plain": [
       "{'HC303'}"
      ]
     },
     "execution_count": 35,
     "metadata": {},
     "output_type": "execute_result"
    }
   ],
   "source": [
    "set(sig_phes) - set(fin_phes)"
   ]
  },
  {
   "cell_type": "markdown",
   "metadata": {},
   "source": [
    "# Get interaction p values"
   ]
  },
  {
   "cell_type": "code",
   "execution_count": 36,
   "metadata": {},
   "outputs": [],
   "source": [
    "inter_df = pd.DataFrame(index = fin_phes, columns = [\"DRB1_404-DQB1_302\",\"DRB1_404-DQA1_301\"])"
   ]
  },
  {
   "cell_type": "code",
   "execution_count": 37,
   "metadata": {},
   "outputs": [
    {
     "name": "stdout",
     "output_type": "stream",
     "text": [
      "1\n",
      "HC150_rounded_inter.txt\n",
      "time: 0.00484013557434\n",
      "\n",
      "2\n",
      "HC310_rounded_inter.txt\n",
      "time: 0.0581440925598\n",
      "\n",
      "3\n",
      "HC432_rounded_inter.txt\n",
      "time: 0.170589923859\n",
      "\n"
     ]
    },
    {
     "name": "stderr",
     "output_type": "stream",
     "text": [
      "/home/users/jolivier/.local/lib/python2.7/site-packages/ipykernel_launcher.py:37: SettingWithCopyWarning: \n",
      "A value is trying to be set on a copy of a slice from a DataFrame\n",
      "\n",
      "See the caveats in the documentation: http://pandas.pydata.org/pandas-docs/stable/indexing.html#indexing-view-versus-copy\n"
     ]
    },
    {
     "name": "stdout",
     "output_type": "stream",
     "text": [
      "4\n",
      "HC91_rounded_inter.txt\n",
      "time: 0.210999965668\n",
      "\n",
      "5\n",
      "HC321_rounded_inter.txt\n",
      "time: 3.93786597252\n",
      "\n"
     ]
    },
    {
     "name": "stderr",
     "output_type": "stream",
     "text": [
      "/home/users/jolivier/.local/lib/python2.7/site-packages/ipykernel_launcher.py:32: SettingWithCopyWarning: \n",
      "A value is trying to be set on a copy of a slice from a DataFrame\n",
      "\n",
      "See the caveats in the documentation: http://pandas.pydata.org/pandas-docs/stable/indexing.html#indexing-view-versus-copy\n",
      "/home/users/jolivier/.local/lib/python2.7/site-packages/ipykernel_launcher.py:34: SettingWithCopyWarning: \n",
      "A value is trying to be set on a copy of a slice from a DataFrame\n",
      "\n",
      "See the caveats in the documentation: http://pandas.pydata.org/pandas-docs/stable/indexing.html#indexing-view-versus-copy\n"
     ]
    },
    {
     "name": "stdout",
     "output_type": "stream",
     "text": [
      "6\n",
      "HC78_rounded_inter.txt\n",
      "time: 4.62984490395\n",
      "\n",
      "7\n",
      "HC382_rounded_inter.txt\n",
      "time: 7.16750311852\n",
      "\n",
      "8\n",
      "HC422_rounded_inter.txt\n",
      "time: 35.2265000343\n",
      "\n",
      "9\n",
      "1041_rounded_inter.txt\n",
      "time: 41.9052789211\n",
      "\n",
      "10\n",
      "HC22_rounded_inter.txt\n",
      "time: 43.2125449181\n",
      "\n",
      "11\n",
      "HC169_rounded_inter.txt\n",
      "time: 43.2498350143\n",
      "\n",
      "12\n",
      "HC28_rounded_inter.txt\n",
      "time: 43.2986199856\n",
      "\n",
      "13\n",
      "HC38_rounded_inter.txt\n",
      "time: 43.572206974\n",
      "\n",
      "14\n",
      "HC269_rounded_inter.txt\n",
      "time: 78.5729091167\n",
      "\n",
      "15\n",
      "HC179_rounded_inter.txt\n",
      "time: 79.6602110863\n",
      "\n",
      "16\n",
      "HC55_rounded_inter.txt\n",
      "time: 80.1530580521\n",
      "\n",
      "17\n",
      "HC219_rounded_inter.txt\n",
      "time: 91.4957969189\n",
      "\n",
      "18\n",
      "1047_rounded_inter.txt\n",
      "time: 163.14230895\n",
      "\n",
      "19\n",
      "1060_rounded_inter.txt\n",
      "time: 163.410588026\n",
      "\n",
      "20\n",
      "HC322_rounded_inter.txt\n",
      "time: 165.300184965\n",
      "\n",
      "21\n",
      "HC273_rounded_inter.txt\n",
      "time: 165.345788002\n",
      "\n",
      "22\n",
      "1003_rounded_inter.txt\n",
      "time: 165.66305995\n",
      "\n",
      "23\n",
      "HC170_rounded_inter.txt\n",
      "time: 167.541171074\n",
      "\n",
      "24\n",
      "HC243_rounded_inter.txt\n",
      "time: 171.671494007\n",
      "\n",
      "25\n",
      "HC96_rounded_inter.txt\n",
      "time: 172.0597651\n",
      "\n",
      "26\n",
      "1053_rounded_inter.txt\n",
      "time: 173.651909113\n",
      "\n",
      "27\n",
      "HC295_rounded_inter.txt\n",
      "time: 174.070337057\n",
      "\n",
      "28\n",
      "HC298_rounded_inter.txt\n",
      "time: 174.232125998\n",
      "\n",
      "29\n",
      "HC430_rounded_inter.txt\n",
      "time: 174.358562946\n",
      "\n",
      "30\n",
      "HC221_rounded_inter.txt\n",
      "time: 194.801780939\n",
      "\n",
      "31\n",
      "HC156_rounded_inter.txt\n",
      "time: 199.823508024\n",
      "\n",
      "32\n",
      "HC17_rounded_inter.txt\n",
      "time: 203.8843081\n",
      "\n",
      "33\n",
      "HC125_rounded_inter.txt\n",
      "time: 203.977101088\n",
      "\n",
      "34\n",
      "HC352_rounded_inter.txt\n",
      "time: 205.064229012\n",
      "\n",
      "35\n",
      "HC39_rounded_inter.txt\n",
      "time: 205.762536049\n",
      "\n",
      "36\n",
      "1037_rounded_inter.txt\n",
      "time: 206.153239012\n",
      "\n",
      "37\n",
      "HC85_rounded_inter.txt\n",
      "time: 206.680360079\n",
      "\n",
      "38\n",
      "1055_rounded_inter.txt\n",
      "time: 206.780810118\n",
      "\n",
      "39\n",
      "HC95_rounded_inter.txt\n",
      "time: 206.820229053\n",
      "\n",
      "40\n",
      "HC25_rounded_inter.txt\n",
      "time: 207.347844124\n",
      "\n",
      "41\n",
      "HC401_rounded_inter.txt\n",
      "time: 207.375524044\n",
      "\n",
      "42\n",
      "HC201_rounded_inter.txt\n",
      "time: 207.416364908\n",
      "\n",
      "43\n",
      "HC261_rounded_inter.txt\n",
      "time: 209.923744917\n",
      "\n",
      "44\n",
      "HC136_rounded_inter.txt\n",
      "time: 210.854085922\n",
      "\n",
      "45\n",
      "HC215_rounded_inter.txt\n",
      "time: 212.248294115\n",
      "\n",
      "46\n",
      "HC49_rounded_inter.txt\n",
      "time: 212.687705994\n",
      "\n",
      "47\n",
      "HC151_rounded_inter.txt\n",
      "time: 217.291438103\n",
      "\n",
      "time: 226.348298073\n"
     ]
    }
   ],
   "source": [
    "t0 = time.time()\n",
    "count = 1\n",
    "for file in os.listdir(\"../scripts/output/interact/\"):\n",
    "    if file.endswith(\".txt\"):\n",
    "        phe = file.split(\"_\")[0]\n",
    "        f = open(\"../scripts/output/interact/\" + file)\n",
    "        print(count)\n",
    "        count += 1\n",
    "        print(file)\n",
    "        print(\"time: {}\\n\".format(time.time() - t0))\n",
    "        for line in f.readlines():\n",
    "            if line[0] == \"$\":\n",
    "                inter = line[2:-2]\n",
    "                p_line = False\n",
    "                p_ind = 0\n",
    "            elif \"Pr(>|z|)\" in line:\n",
    "                line = line.replace(\"Std. Error\", \"stderr\")\n",
    "                line = line.replace(\"z value\", \"zvalue\")\n",
    "                p_ind = line.split().index(\"Pr(>|z|)\")\n",
    "                p_line = True\n",
    "            elif line.startswith(\"as.numeric(gcounts1):as.numeric(gcounts2)\"):\n",
    "                if p_line:\n",
    "                    p_val = line.split()[p_ind + 1]\n",
    "                    if p_val == \"<2e-16\" or p_val == \"<\":\n",
    "                        p_val = 2e-16\n",
    "                    else:\n",
    "                        p_val = float(p_val)\n",
    "                    #got_p = True\n",
    "                    p_line = False\n",
    "                    inter2 = inter.split(\"-\")[1] + \"-\" + inter.split(\"-\")[0]\n",
    "                    if inter in inter_df.columns.values:\n",
    "                        inter_df[inter][phe] = p_val\n",
    "                    elif inter2 in inter_df.columns.values:\n",
    "                        inter_df[inter2][phe] = p_val\n",
    "                    else:\n",
    "                        inter_df[inter] = np.nan\n",
    "                        inter_df[inter][phe] = p_val\n",
    "\n",
    "        f.close()\n",
    "print(\"time: {}\".format(time.time() - t0))"
   ]
  },
  {
   "cell_type": "code",
   "execution_count": 38,
   "metadata": {},
   "outputs": [
    {
     "data": {
      "text/plain": [
       "array(['DRB1_404-DQB1_302', 'DRB1_404-DQA1_301', 'DQA1_501-DQB1_201', ...,\n",
       "       'A_301-B_2705', 'A_301-C_102', 'A_301-DRB1_1303'], dtype=object)"
      ]
     },
     "execution_count": 38,
     "metadata": {},
     "output_type": "execute_result"
    }
   ],
   "source": [
    "inter_df.columns.values"
   ]
  },
  {
   "cell_type": "code",
   "execution_count": 39,
   "metadata": {},
   "outputs": [],
   "source": [
    "inter_df.to_csv(outpath + \"interact_pvals.csv\")\n",
    "inter_df;"
   ]
  },
  {
   "cell_type": "markdown",
   "metadata": {},
   "source": [
    "# Adjust pvalues"
   ]
  },
  {
   "cell_type": "code",
   "execution_count": 40,
   "metadata": {},
   "outputs": [
    {
     "name": "stdout",
     "output_type": "stream",
     "text": [
      "number below threshold: 191\n"
     ]
    },
    {
     "name": "stderr",
     "output_type": "stream",
     "text": [
      "/home/users/jolivier/.local/lib/python2.7/site-packages/ipykernel_launcher.py:10: RuntimeWarning: invalid value encountered in less\n",
      "  # Remove the CWD from sys.path while we load stuff.\n"
     ]
    }
   ],
   "source": [
    "thresh = 0.05\n",
    "s = inter_df.as_matrix().shape\n",
    "flat_df = inter_df.as_matrix().flatten()\n",
    "total = flat_df.shape[0]\n",
    "nom_p = robjects.FloatVector(flat_df)\n",
    "rpadjust = robjects.r['p.adjust']\n",
    "adj_p = np.array(rpadjust(nom_p, \"BY\"))\n",
    "adj_p = np.reshape(adj_p,s)\n",
    "# find the number of adjusted values below the threshold\n",
    "below_thresh = (adj_p < thresh).sum()\n",
    "adj_p_df = pd.DataFrame(adj_p,index=inter_df.index.values, columns=inter_df.columns.values)\n",
    "print(\"number below threshold: {}\".format(below_thresh))\n",
    "adj_p_df.to_csv(outpath + \"interact_pvals_adj.csv\")\n",
    "adj_p_df;"
   ]
  },
  {
   "cell_type": "code",
   "execution_count": 41,
   "metadata": {},
   "outputs": [
    {
     "name": "stdout",
     "output_type": "stream",
     "text": [
      "number of phenotypes with significant entry: 14\n",
      "number of allelotypes with significant entry: 159\n"
     ]
    }
   ],
   "source": [
    "sig_df = adj_p_df.loc[(adj_p_df < thresh).sum(axis=1) > 0, :]\n",
    "sig_df = sig_df[sig_df.columns[(sig_df< thresh).any()]]\n",
    "print(\"number of phenotypes with significant entry: {}\".format(sig_df.shape[0]))\n",
    "print(\"number of allelotypes with significant entry: {}\".format(sig_df.shape[1]))\n",
    "sig_df.to_csv(outpath + \"interact_pvals_adj_sig.csv\")\n",
    "sig_df;"
   ]
  },
  {
   "cell_type": "code",
   "execution_count": 42,
   "metadata": {},
   "outputs": [],
   "source": [
    "sig_df[sig_df < thresh].count().sort_values(ascending = False).to_csv(outpath + \"allele_sig_counts.csv\")\n",
    "T_sig_df = sig_df.transpose()\n",
    "T_sig_df[T_sig_df < thresh].count().sort_values(ascending = False).to_csv(outpath + \"phe_sig_counts.csv\")"
   ]
  },
  {
   "cell_type": "code",
   "execution_count": null,
   "metadata": {},
   "outputs": [],
   "source": []
  }
 ],
 "metadata": {
  "kernelspec": {
   "display_name": "Python 2",
   "language": "python",
   "name": "python2"
  },
  "language_info": {
   "codemirror_mode": {
    "name": "ipython",
    "version": 2
   },
   "file_extension": ".py",
   "mimetype": "text/x-python",
   "name": "python",
   "nbconvert_exporter": "python",
   "pygments_lexer": "ipython2",
   "version": "2.7.13"
  }
 },
 "nbformat": 4,
 "nbformat_minor": 2
}
