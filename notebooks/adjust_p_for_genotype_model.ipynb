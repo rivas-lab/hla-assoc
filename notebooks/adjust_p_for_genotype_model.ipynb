{
 "cells": [
  {
   "cell_type": "code",
   "execution_count": 1,
   "metadata": {},
   "outputs": [],
   "source": [
    "import pandas as pd\n",
    "import numpy as np\n",
    "import rpy2.robjects as robjects\n",
    "import matplotlib.pyplot as plt\n",
    "from matplotlib import colors"
   ]
  },
  {
   "cell_type": "markdown",
   "metadata": {},
   "source": [
    "# Get list of phenotypes and haplotypes"
   ]
  },
  {
   "cell_type": "code",
   "execution_count": 2,
   "metadata": {},
   "outputs": [],
   "source": [
    "phe_list = []\n",
    "# get names of cancer phe files\n",
    "\n",
    "cancerphes_file = open(\"cancerphes.txt\", \"r\")\n",
    "for line in cancerphes_file.readlines():\n",
    "    phe_list.append(line[:-1])\n",
    "cancerphes_file.close()\n",
    "\n",
    "# get names of HC phe files\n",
    "for i in range(446):\n",
    "    # after filtering there are no cases for HC65\n",
    "    if i != 65:\n",
    "        phe_list.append(\"HC\" + str(i))"
   ]
  },
  {
   "cell_type": "code",
   "execution_count": 3,
   "metadata": {},
   "outputs": [],
   "source": [
    "# get haplotype names\n",
    "\n",
    "hap_list = []\n",
    "\n",
    "hap_file = open(\"all_haps.txt\",\"r\")\n",
    "for line in hap_file.readlines():\n",
    "    hap_list.append(line[:-1])\n",
    "hap_file.close()\n"
   ]
  },
  {
   "cell_type": "markdown",
   "metadata": {},
   "source": [
    "# Create dataframe with p values"
   ]
  },
  {
   "cell_type": "code",
   "execution_count": 4,
   "metadata": {},
   "outputs": [],
   "source": [
    "p_1_df = pd.read_csv('../manuscript/genotype_assoc_unadj_p_all_1.csv', index_col=0)\n",
    "p_2_df = pd.read_csv('../manuscript/genotype_assoc_unadj_p_all_2.csv', index_col=0)"
   ]
  },
  {
   "cell_type": "markdown",
   "metadata": {},
   "source": [
    "# Subset by frequency"
   ]
  },
  {
   "cell_type": "code",
   "execution_count": 9,
   "metadata": {},
   "outputs": [],
   "source": [
    "# create allele frequency dictionary\n",
    "allele_freq_file = open(\"allele_freq.csv\",\"r\")\n",
    "allele_freq_file.readline()\n",
    "allele_freq_dict = {}\n",
    "for line in allele_freq_file.readlines():\n",
    "    line = line.split(\",\")\n",
    "    allele_freq_dict[line[0]] = int(line[1][:-3])\n",
    "allele_freq_file.close()"
   ]
  },
  {
   "cell_type": "code",
   "execution_count": 10,
   "metadata": {},
   "outputs": [
    {
     "data": {
      "text/plain": [
       "180969"
      ]
     },
     "execution_count": 10,
     "metadata": {},
     "output_type": "execute_result"
    }
   ],
   "source": [
    "allele_freq_dict[\"A_201\"]"
   ]
  },
  {
   "cell_type": "code",
   "execution_count": 11,
   "metadata": {},
   "outputs": [],
   "source": [
    "# create phe frequency dictionary\n",
    "phe_freq_file = open(\"phe_freq.csv\",\"r\")\n",
    "phe_freq_file.readline()\n",
    "phe_freq_dict = {}\n",
    "for line in phe_freq_file.readlines():\n",
    "    line = line.split(\",\")\n",
    "    phe_freq_dict[line[0]] = int(line[1][:-1])\n",
    "phe_freq_file.close()"
   ]
  },
  {
   "cell_type": "code",
   "execution_count": 12,
   "metadata": {},
   "outputs": [
    {
     "data": {
      "text/plain": [
       "17400"
      ]
     },
     "execution_count": 12,
     "metadata": {},
     "output_type": "execute_result"
    }
   ],
   "source": [
    "phe_freq_dict[\"1060\"]"
   ]
  },
  {
   "cell_type": "code",
   "execution_count": 13,
   "metadata": {},
   "outputs": [],
   "source": [
    "def adjust_pvals(p_df, phe_freq, allele_freq, phe_freq_dict, allele_freq_dict, thresh):\n",
    "    phe_subset = []\n",
    "    for phe in phe_freq_dict.keys():\n",
    "        if phe_freq_dict[phe] > phe_freq:\n",
    "            phe_subset.append(phe)\n",
    "    allele_subset = []\n",
    "    for allele in allele_freq_dict.keys():\n",
    "        if allele_freq_dict[allele] > allele_freq:\n",
    "            allele_subset.append(allele)\n",
    "    # subset dataframe by phe_subset and allele_subset\n",
    "    sub_df = p_df[allele_subset]\n",
    "    sub_df = sub_df.loc[phe_subset]\n",
    "    #print(\"sub_df shape: {}\".format(sub_df))\n",
    "    # turn into 1-d numpy array of p values\n",
    "    s = sub_df.as_matrix().shape\n",
    "    flat_df = sub_df.as_matrix().flatten()\n",
    "    total = flat_df.shape[0]\n",
    "    nom_p = robjects.FloatVector(flat_df)\n",
    "    rpadjust = robjects.r['p.adjust']\n",
    "    adj_p = np.array(rpadjust(nom_p, \"BY\"))\n",
    "    adj_p = np.reshape(adj_p,s)\n",
    "    # find the number of adjusted values below the threshold\n",
    "    below_thresh = (adj_p < thresh).sum()\n",
    "    adj_p_df = pd.DataFrame(adj_p,index=sub_df.index.values, columns=sub_df.columns.values)\n",
    "    return below_thresh, total, adj_p_df"
   ]
  },
  {
   "cell_type": "markdown",
   "metadata": {},
   "source": [
    "# Create table with different cutoff values"
   ]
  },
  {
   "cell_type": "code",
   "execution_count": 14,
   "metadata": {},
   "outputs": [
    {
     "name": "stderr",
     "output_type": "stream",
     "text": [
      "/Users/guhan/anaconda3/lib/python3.6/site-packages/ipykernel_launcher.py:15: FutureWarning: Method .as_matrix will be removed in a future version. Use .values instead.\n",
      "  from ipykernel import kernelapp as app\n",
      "/Users/guhan/anaconda3/lib/python3.6/site-packages/ipykernel_launcher.py:16: FutureWarning: Method .as_matrix will be removed in a future version. Use .values instead.\n",
      "  app.launch_new_instance()\n",
      "/Users/guhan/anaconda3/lib/python3.6/site-packages/ipykernel_launcher.py:23: RuntimeWarning: invalid value encountered in less\n"
     ]
    }
   ],
   "source": [
    "num_individuals = 337208 #from the cohort we have defined\n",
    "\n",
    "below_thresh, total, adj_p_1_df = adjust_pvals(p_1_df, 500, num_individuals*0.001, phe_freq_dict, allele_freq_dict, 0.05)\n",
    "below_thresh, total, adj_p_2_df = adjust_pvals(p_2_df, 500, num_individuals*0.001, phe_freq_dict, allele_freq_dict, 0.05)"
   ]
  },
  {
   "cell_type": "code",
   "execution_count": 15,
   "metadata": {},
   "outputs": [],
   "source": [
    "adj_p_1_df.to_csv(\"genotype_assoc_adj_p_all_1.csv\")\n",
    "adj_p_2_df.to_csv(\"genotype_assoc_adj_p_all_2.csv\")"
   ]
  },
  {
   "cell_type": "markdown",
   "metadata": {},
   "source": [
    "## Number with significant entries"
   ]
  },
  {
   "cell_type": "code",
   "execution_count": 16,
   "metadata": {},
   "outputs": [
    {
     "name": "stdout",
     "output_type": "stream",
     "text": [
      "number of phenotypes with significant entry: 52\n",
      "number of allelotypes with significant entry: 107\n"
     ]
    }
   ],
   "source": [
    "sig_1_df = adj_p_1_df.loc[(adj_p_1_df < 0.05).sum(axis=1) > 0, :]\n",
    "sig_1_df = sig_1_df[sig_1_df.columns[(sig_1_df<0.05).any()]]\n",
    "print(\"number of phenotypes with significant entry: {}\".format(sig_1_df.shape[0]))\n",
    "print(\"number of allelotypes with significant entry: {}\".format(sig_1_df.shape[1]))\n",
    "sig_1_df.to_csv(\"genotype_assoc_adj_p_sig_1.csv\")"
   ]
  },
  {
   "cell_type": "code",
   "execution_count": 17,
   "metadata": {},
   "outputs": [
    {
     "name": "stdout",
     "output_type": "stream",
     "text": [
      "number of phenotypes with significant entry: 58\n",
      "number of allelotypes with significant entry: 59\n"
     ]
    }
   ],
   "source": [
    "sig_2_df = adj_p_2_df.loc[(adj_p_2_df < 0.05).sum(axis=1) > 0, :]\n",
    "sig_2_df = sig_2_df[sig_2_df.columns[(sig_2_df<0.05).any()]]\n",
    "print(\"number of phenotypes with significant entry: {}\".format(sig_2_df.shape[0]))\n",
    "print(\"number of allelotypes with significant entry: {}\".format(sig_2_df.shape[1]))\n",
    "sig_2_df.to_csv(\"genotype_assoc_adj_p_sig_2.csv\")"
   ]
  }
 ],
 "metadata": {
  "kernelspec": {
   "display_name": "Python 3",
   "language": "python",
   "name": "python3"
  },
  "language_info": {
   "codemirror_mode": {
    "name": "ipython",
    "version": 3
   },
   "file_extension": ".py",
   "mimetype": "text/x-python",
   "name": "python",
   "nbconvert_exporter": "python",
   "pygments_lexer": "ipython3",
   "version": "3.6.5"
  }
 },
 "nbformat": 4,
 "nbformat_minor": 2
}
