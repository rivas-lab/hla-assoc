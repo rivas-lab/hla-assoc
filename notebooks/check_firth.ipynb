{
 "cells": [
  {
   "cell_type": "markdown",
   "metadata": {},
   "source": [
    "# Check Firth\n",
    "\n",
    "Identified which regressions were using firth (what the allele\n",
    "  variant frequencies were in these cases, what the phenotype frequencies were\n",
    "in these cases)."
   ]
  },
  {
   "cell_type": "code",
   "execution_count": 1,
   "metadata": {
    "collapsed": true
   },
   "outputs": [],
   "source": [
    "import os\n",
    "\n",
    "import numpy as np\n",
    "import pandas as pd\n",
    "import matplotlib.pyplot as plt"
   ]
  },
  {
   "cell_type": "code",
   "execution_count": 2,
   "metadata": {
    "collapsed": true
   },
   "outputs": [],
   "source": [
    "path = os.path.realpath('..')\n",
    "outpath = os.path.join(path, \"output/check_firth\")"
   ]
  },
  {
   "cell_type": "markdown",
   "metadata": {},
   "source": [
    "# Find frequency of each allele and each phenotype"
   ]
  },
  {
   "cell_type": "code",
   "execution_count": 3,
   "metadata": {
    "collapsed": false
   },
   "outputs": [],
   "source": [
    "# get names of cancer phe files\n",
    "cancerphes = []\n",
    "cancerphes_file = open(os.path.join(path, \"data/cancerphes.txt\"), \"r\")\n",
    "for line in cancerphes_file.readlines():\n",
    "    cancerphes.append(line[:-1])\n",
    "cancerphes_file.close()\n",
    "#print(cancerphes)"
   ]
  },
  {
   "cell_type": "markdown",
   "metadata": {},
   "source": [
    "## Find the frequency of each phenotype"
   ]
  },
  {
   "cell_type": "code",
   "execution_count": 4,
   "metadata": {
    "collapsed": false
   },
   "outputs": [],
   "source": [
    "remove = np.loadtxt(\n",
    "    os.path.join(path, \"private_data/ukbb_files/sampleqc_16698.phe\"), \n",
    "    usecols=[0], \n",
    "    dtype=int,\n",
    ")"
   ]
  },
  {
   "cell_type": "code",
   "execution_count": 5,
   "metadata": {
    "collapsed": false
   },
   "outputs": [
    {
     "name": "stdout",
     "output_type": "stream",
     "text": [
      "Number removed: 151169\n"
     ]
    }
   ],
   "source": [
    "# subset to white British cohort\n",
    "print(\"Number removed: {}\".format(len(remove)))"
   ]
  },
  {
   "cell_type": "code",
   "execution_count": 6,
   "metadata": {
    "collapsed": false
   },
   "outputs": [
    {
     "name": "stdout",
     "output_type": "stream",
     "text": [
      "number originally: 502628\n",
      "number after dropping: 351459\n",
      "19864\n"
     ]
    }
   ],
   "source": [
    "# testing out subsetting\n",
    "cancerphes_path = \"/oak/stanford/groups/mrivas/private_data/ukbb/16698/phe/cancer3/\"\n",
    "phe_data = pd.read_csv(cancerphes_path + \"1003\" + \".phe\", delim_whitespace=True, \n",
    "                       header=None, index_col=[0], dtype=int)\n",
    "print(\"number originally: {}\".format(len(phe_data)))\n",
    "phe_data = phe_data.drop(remove)\n",
    "print(\"number after dropping: {}\".format(len(phe_data)))\n",
    "print((phe_data[2] == 2).sum())"
   ]
  },
  {
   "cell_type": "code",
   "execution_count": 9,
   "metadata": {
    "collapsed": true
   },
   "outputs": [],
   "source": [
    "phe_freq = {}\n",
    "# record the frequency of each cancer phenotype\n",
    "cancerphes_path = \"/oak/stanford/groups/mrivas/private_data/ukbb/16698/phe/cancer3/\"\n",
    "for i in range(len(cancerphes)):\n",
    "    #phe_data = np.loadtxt(cancerphes_path + cancerphes[i] + \".phe\", dtype=int, usecols=[2])\n",
    "    phe_data = pd.read_csv(cancerphes_path + cancerphes[i] + \".phe\", delim_whitespace=True, \n",
    "                       header=None, index_col=[0], dtype=int)\n",
    "    # subset to white British cohort\n",
    "    phe_data = phe_data.drop(remove)\n",
    "    #case = np.sum(phe_data == 2)\n",
    "    case = (phe_data[2] == 2).sum()\n",
    "    phe_freq[cancerphes[i]] = case"
   ]
  },
  {
   "cell_type": "code",
   "execution_count": 10,
   "metadata": {
    "collapsed": true
   },
   "outputs": [],
   "source": [
    "# record the frequency of each hc phenotype\n",
    "HC_path = \"/share/PI/mrivas/data/ukbb/phefiles/highconfidenceqc/\"\n",
    "for i in range(446):\n",
    "    #phe_data = np.loadtxt(HC_path + \"HC\" + str(i) + \".phe\", dtype=int, usecols=[2])\n",
    "    phe_data = pd.read_csv(HC_path + \"HC\" + str(i) + \".phe\", delim_whitespace=True, \n",
    "                       header=None, index_col=[0], dtype=int)\n",
    "    #case = np.sum(phe_data == 2)\n",
    "    phe_data = phe_data.drop(remove)\n",
    "    case = (phe_data[2] == 2).sum()\n",
    "    phe_freq[\"HC\" + str(i)] = case"
   ]
  },
  {
   "cell_type": "code",
   "execution_count": 11,
   "metadata": {
    "collapsed": false
   },
   "outputs": [
    {
     "data": {
      "text/plain": [
       "(351459, 2)"
      ]
     },
     "execution_count": 11,
     "metadata": {},
     "output_type": "execute_result"
    }
   ],
   "source": [
    "phe_data.shape"
   ]
  },
  {
   "cell_type": "code",
   "execution_count": 32,
   "metadata": {
    "collapsed": true
   },
   "outputs": [],
   "source": [
    "out_fn = os.path.join(outpath, \"phe_freq.csv\")\n",
    "if not os.path.exists(out_fn):\n",
    "    freq_file = open(out_fn, \"w\")\n",
    "    freq_file.write(\"phenotype,frequency\\n\")\n",
    "    for key in phe_freq.keys():\n",
    "        freq_file.write(str(key) + \",\" + str(phe_freq[key]) + \"\\n\")\n",
    "    freq_file.close()"
   ]
  },
  {
   "cell_type": "markdown",
   "metadata": {},
   "source": [
    "## Find frequency of each allele variant"
   ]
  },
  {
   "cell_type": "code",
   "execution_count": 17,
   "metadata": {
    "collapsed": false
   },
   "outputs": [],
   "source": [
    "fn = os.path.join(path, \"private_output/print_rds/ukb_hla_v2_rounded_remove.txt\")\n",
    "dosage_df = pd.read_csv(fn, header=0, delimiter=\",\")\n",
    "# Note 2019/2/2 Chris: this is reading the index as a column, and putting that\n",
    "# into the output file, but I'm going to leave it in case other code already \n",
    "# relies on this behavior."
   ]
  },
  {
   "cell_type": "code",
   "execution_count": 24,
   "metadata": {
    "collapsed": false
   },
   "outputs": [
    {
     "data": {
      "text/plain": [
       "2.0"
      ]
     },
     "execution_count": 24,
     "metadata": {},
     "output_type": "execute_result"
    }
   ],
   "source": [
    "dosage_df.drop(dosage_df.columns[0], axis=1).max().max()"
   ]
  },
  {
   "cell_type": "code",
   "execution_count": 20,
   "metadata": {
    "collapsed": false
   },
   "outputs": [
    {
     "data": {
      "text/plain": [
       "(337208, 363)"
      ]
     },
     "execution_count": 20,
     "metadata": {},
     "output_type": "execute_result"
    }
   ],
   "source": [
    "dosage_df.shape"
   ]
  },
  {
   "cell_type": "code",
   "execution_count": 18,
   "metadata": {
    "collapsed": false
   },
   "outputs": [
    {
     "data": {
      "text/plain": [
       "Unnamed: 0    1.185071e+12\n",
       "A_101         1.305650e+05\n",
       "A_102         1.140000e+02\n",
       "A_103         3.000000e+00\n",
       "A_201         1.809690e+05\n",
       "A_202         4.410000e+02\n",
       "A_203         2.120000e+02\n",
       "A_205         4.971000e+03\n",
       "A_206         1.151000e+03\n",
       "A_207         1.000000e+01\n",
       "A_210         0.000000e+00\n",
       "A_211         3.960000e+02\n",
       "A_214         0.000000e+00\n",
       "A_216         0.000000e+00\n",
       "A_220         1.500000e+01\n",
       "A_264         0.000000e+00\n",
       "A_301         9.712500e+04\n",
       "A_302         7.130000e+02\n",
       "A_1101        4.027200e+04\n",
       "A_1102        1.000000e+00\n",
       "A_1103        2.000000e+00\n",
       "A_2301        1.139600e+04\n",
       "A_2402        4.737800e+04\n",
       "A_2403        1.910000e+02\n",
       "A_2404        1.000000e+01\n",
       "A_2407        1.800000e+01\n",
       "A_2410        4.000000e+00\n",
       "A_2501        9.807000e+03\n",
       "A_2601        1.104600e+04\n",
       "A_2603        0.000000e+00\n",
       "                  ...     \n",
       "DPB1_1401     4.568000e+03\n",
       "DPB1_1501     4.633000e+03\n",
       "DPB1_1601     1.138000e+03\n",
       "DPB1_1701     7.431000e+03\n",
       "DPB1_1801     9.000000e+00\n",
       "DPB1_1901     3.528000e+03\n",
       "DPB1_2001     5.110000e+02\n",
       "DPB1_2101     8.000000e+00\n",
       "DPB1_2201     0.000000e+00\n",
       "DPB1_2301     5.570000e+02\n",
       "DPB1_2601     1.900000e+01\n",
       "DPB1_2801     1.000000e+00\n",
       "DPB1_3001     1.000000e+00\n",
       "DPB1_3101     1.000000e+00\n",
       "DPB1_3301     4.000000e+00\n",
       "DPB1_3401     4.000000e+00\n",
       "DPB1_3501     0.000000e+00\n",
       "DPB1_4001     1.000000e+00\n",
       "DPB1_4501     0.000000e+00\n",
       "DPB1_4801     0.000000e+00\n",
       "DPB1_8101     0.000000e+00\n",
       "DPB1_8501     0.000000e+00\n",
       "DPA1_103      5.478050e+05\n",
       "DPA1_104      3.151000e+03\n",
       "DPA1_105      3.810000e+02\n",
       "DPA1_107      0.000000e+00\n",
       "DPA1_201      9.814100e+04\n",
       "DPA1_202      2.050700e+04\n",
       "DPA1_301      5.100000e+01\n",
       "DPA1_401      2.000000e+00\n",
       "Length: 363, dtype: float64"
      ]
     },
     "execution_count": 18,
     "metadata": {},
     "output_type": "execute_result"
    }
   ],
   "source": [
    "sum_df = dosage_df.sum(axis=0)\n",
    "sum_df"
   ]
  },
  {
   "cell_type": "code",
   "execution_count": 35,
   "metadata": {
    "collapsed": true
   },
   "outputs": [],
   "source": [
    "out_fn = os.path.join(outpath, \"allele_freq.csv\")\n",
    "if not os.path.exists(out_fn):\n",
    "    sum_df.to_csv(out_fn)"
   ]
  },
  {
   "cell_type": "markdown",
   "metadata": {},
   "source": [
    "# Find firth counts"
   ]
  },
  {
   "cell_type": "code",
   "execution_count": 36,
   "metadata": {
    "collapsed": true,
    "scrolled": false
   },
   "outputs": [],
   "source": [
    "# create allele frequency dictionary\n",
    "allele_freq_file = open(path + \"notebooks/output/check_firth/allele_freq.csv\",\"r\")\n",
    "allele_freq_file.readline()\n",
    "allele_freq = {}\n",
    "for line in allele_freq_file.readlines():\n",
    "    line = line.split(\",\")\n",
    "    allele_freq[line[0]] = int(line[1][:-3])\n",
    "allele_freq_file.close()\n"
   ]
  },
  {
   "cell_type": "code",
   "execution_count": 37,
   "metadata": {
    "collapsed": true
   },
   "outputs": [],
   "source": [
    "# create phe frequency dictionary\n",
    "phe_freq_file = open(path + \"notebooks/output/check_firth/phe_freq.csv\",\"r\")\n",
    "phe_freq_file.readline()\n",
    "phe_freq = {}\n",
    "for line in phe_freq_file.readlines():\n",
    "    line = line.split(\",\")\n",
    "    phe_freq[line[0]] = int(line[1][:-1])\n",
    "phe_freq_file.close()\n"
   ]
  },
  {
   "cell_type": "markdown",
   "metadata": {},
   "source": [
    "## Find frequency of phenotype and allele variant each time firth is used"
   ]
  },
  {
   "cell_type": "code",
   "execution_count": 38,
   "metadata": {
    "collapsed": true
   },
   "outputs": [],
   "source": [
    "firth_var = []\n",
    "firth_phe = []\n",
    "var_name = []\n",
    "phe_name = []\n",
    "no_firth_var = []\n",
    "no_firth_phe = []\n",
    "for phe in phe_freq.keys():\n",
    "    if phe != \"HC65\":\n",
    "        df = pd.read_csv(path + \"data/PLINK_results/\" + phe + \".PHENO1.glm.logistic.hybrid\", \n",
    "                     delim_whitespace=True, header=0)\n",
    "        df = df.loc[df['TEST'] == 'ADD'] \n",
    "        df1 = df[df[\"FIRTH?\"] == \"Y\"]\n",
    "        for row in df1.itertuples(index=True,name=\"Pandas\"):\n",
    "            firth_var.append(allele_freq[getattr(row,\"ID\")])\n",
    "            firth_phe.append(phe_freq[phe])\n",
    "            var_name.append(getattr(row,\"ID\"))\n",
    "            phe_name.append(phe)\n",
    "        df2 = df[df[\"FIRTH?\"] == \"N\"]\n",
    "        for row in df2.itertuples(index=True,name=\"Pandas\"):\n",
    "            no_firth_var.append(allele_freq[getattr(row,\"ID\")])\n",
    "            no_firth_phe.append(phe_freq[phe])\n"
   ]
  },
  {
   "cell_type": "code",
   "execution_count": 39,
   "metadata": {
    "collapsed": false
   },
   "outputs": [
    {
     "name": "stdout",
     "output_type": "stream",
     "text": [
      "B_5802\n",
      "HC319\n",
      "105\n",
      "3\n",
      "68278\n",
      "117790\n"
     ]
    }
   ],
   "source": [
    "index = 60001\n",
    "\n",
    "print(var_name[index])\n",
    "print(phe_name[index])\n",
    "print(firth_phe[index])\n",
    "print(firth_var[index])\n",
    "print(len(var_name))\n",
    "print(len(no_firth_phe))\n"
   ]
  },
  {
   "cell_type": "markdown",
   "metadata": {},
   "source": [
    "## Plotting Firth Results"
   ]
  },
  {
   "cell_type": "code",
   "execution_count": 41,
   "metadata": {
    "collapsed": false
   },
   "outputs": [
    {
     "data": {
      "image/png": "[encoded data removed]",
      "text/plain": [
       "<matplotlib.figure.Figure at 0x7fd06af97e10>"
      ]
     },
     "metadata": {},
     "output_type": "display_data"
    }
   ],
   "source": [
    "plt.close()\n",
    "size = 1\n",
    "a=1\n",
    "use_all = False\n",
    "ran = 30000\n",
    "plt.scatter(no_firth_phe,no_firth_var,s=size,alpha=a,label=\"no firth\")\n",
    "plt.scatter(firth_phe,firth_var,s=size,alpha=a, label=\"firth\")\n",
    "#plt.axhline(y=5,c=\"k\")\n",
    "if not use_all:\n",
    "    plt.axvline(x=500,c=\"k\",label=\"phe cuttoff = 500\")\n",
    "plt.title(\"Phenotype frequency vs allele frequency for\\nPLINK regressions that use FIRTH\")\n",
    "plt.xlabel(\"phenotype frequency\")\n",
    "plt.ylabel(\"allele variant frequency\")\n",
    "plt.legend(loc=1)\n",
    "if use_all:\n",
    "    plt.xlim([0,max(no_firth_phe)])\n",
    "    plt.ylim([0,max(firth_var)])\n",
    "    plt.savefig(outpath + \"firth_plot_all.png\")\n",
    "else:\n",
    "    plt.xlim([0,ran])\n",
    "    plt.ylim([0,ran])\n",
    "\n",
    "    plt.savefig(outpath + \"firth_plot\" + str(ran) + \".png\")\n",
    "\n",
    "plt.show()\n",
    "\n"
   ]
  },
  {
   "cell_type": "code",
   "execution_count": null,
   "metadata": {
    "collapsed": true
   },
   "outputs": [],
   "source": []
  }
 ],
 "metadata": {
  "hide_input": false,
  "kernelspec": {
   "display_name": "Python 2",
   "language": "python",
   "name": "python2"
  },
  "language_info": {
   "codemirror_mode": {
    "name": "ipython",
    "version": 2
   },
   "file_extension": ".py",
   "mimetype": "text/x-python",
   "name": "python",
   "nbconvert_exporter": "python",
   "pygments_lexer": "ipython2",
   "version": "2.7.13"
  },
  "latex_envs": {
   "LaTeX_envs_menu_present": true,
   "autocomplete": true,
   "bibliofile": "biblio.bib",
   "cite_by": "apalike",
   "current_citInitial": 1,
   "eqLabelWithNumbers": true,
   "eqNumInitial": 1,
   "hotkeys": {
    "equation": "Ctrl-E",
    "itemize": "Ctrl-I"
   },
   "labels_anchors": false,
   "latex_user_defs": false,
   "report_style_numbering": false,
   "user_envs_cfg": false
  },
  "toc": {
   "colors": {
    "hover_highlight": "#DAA520",
    "navigate_num": "#000000",
    "navigate_text": "#333333",
    "running_highlight": "#FF0000",
    "selected_highlight": "#FFD700",
    "sidebar_border": "#EEEEEE",
    "wrapper_background": "#FFFFFF"
   },
   "moveMenuLeft": true,
   "nav_menu": {
    "height": "138px",
    "width": "252px"
   },
   "navigate_menu": true,
   "number_sections": true,
   "sideBar": true,
   "threshold": 4,
   "toc_cell": false,
   "toc_section_display": "block",
   "toc_window_display": false,
   "widenNotebook": false
  }
 },
 "nbformat": 4,
 "nbformat_minor": 2
}
