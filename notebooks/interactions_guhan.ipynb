{
 "cells": [
  {
   "cell_type": "code",
   "execution_count": 12,
   "metadata": {},
   "outputs": [],
   "source": [
    "import numpy as np\n",
    "import os\n",
    "import pandas as pd\n",
    "import rpy2.robjects as robjects\n",
    "import time"
   ]
  },
  {
   "cell_type": "code",
   "execution_count": 2,
   "metadata": {},
   "outputs": [],
   "source": [
    "outpath = \"output/interactions/\""
   ]
  },
  {
   "cell_type": "markdown",
   "metadata": {},
   "source": [
    "# Get phenotypes with at least two significant associatons"
   ]
  },
  {
   "cell_type": "code",
   "execution_count": 3,
   "metadata": {},
   "outputs": [
    {
     "data": {
      "text/plain": [
       "48"
      ]
     },
     "execution_count": 3,
     "metadata": {},
     "output_type": "execute_result"
    }
   ],
   "source": [
    "# get list of significant HC phenotypes\n",
    "f = open(\"output/compare_cutoff_pvals/sig_phe_HC.txt\",\"r\")\n",
    "sig_phes = f.readline().split()\n",
    "f.close()\n",
    "\n",
    "# get list of significant cancer phenotypes\n",
    "f = open(\"output/compare_cutoff_pvals/sig_phe_cancer.txt\",\"r\")\n",
    "sig_phes += f.readline().split()\n",
    "f.close()\n",
    "\n",
    "len(sig_phes)"
   ]
  },
  {
   "cell_type": "markdown",
   "metadata": {},
   "source": [
    "# Find which analyses have finished"
   ]
  },
  {
   "cell_type": "code",
   "execution_count": 34,
   "metadata": {},
   "outputs": [
    {
     "data": {
      "text/plain": [
       "47"
      ]
     },
     "execution_count": 34,
     "metadata": {},
     "output_type": "execute_result"
    }
   ],
   "source": [
    "fin_phes = []\n",
    "for file in os.listdir(\"../scripts/output/interact/\"):\n",
    "    if file.endswith(\".txt\"):\n",
    "        fin_phes.append(file.split(\"_\")[0])\n",
    "        #print(os.path.join(\"/mydir\", file))\n",
    "len(fin_phes)"
   ]
  },
  {
   "cell_type": "markdown",
   "metadata": {},
   "source": [
    "# Find missing"
   ]
  },
  {
   "cell_type": "code",
   "execution_count": 35,
   "metadata": {},
   "outputs": [
    {
     "data": {
      "text/plain": [
       "{'HC303'}"
      ]
     },
     "execution_count": 35,
     "metadata": {},
     "output_type": "execute_result"
    }
   ],
   "source": [
    "set(sig_phes) - set(fin_phes)"
   ]
  },
  {
   "cell_type": "markdown",
   "metadata": {},
   "source": [
    "# Get interaction p values"
   ]
  },
  {
   "cell_type": "code",
   "execution_count": 36,
   "metadata": {},
   "outputs": [],
   "source": [
    "big_fat_df = pd.DataFrame(index = fin_phes, columns = ['allelotype_pair', 'estimate_add1', 'se_add1', 'z_add1', 'p_add1', 'estimate_add2', 'se_add2', 'z_add2', 'p_add2', 'estimate_int', 'se_int', 'z_int', 'p_int'])"
   ]
  },
  {
   "cell_type": "code",
   "execution_count": 1,
   "metadata": {},
   "outputs": [
    {
     "ename": "IndentationError",
     "evalue": "expected an indented block (<ipython-input-1-e64e4451a154>, line 14)",
     "output_type": "error",
     "traceback": [
      "\u001b[0;36m  File \u001b[0;32m\"<ipython-input-1-e64e4451a154>\"\u001b[0;36m, line \u001b[0;32m14\u001b[0m\n\u001b[0;31m    for file in os.listdir(\"../scripts/output/interact/\"):\u001b[0m\n\u001b[0m      ^\u001b[0m\n\u001b[0;31mIndentationError\u001b[0m\u001b[0;31m:\u001b[0m expected an indented block\n"
     ]
    }
   ],
   "source": [
    "t0 = time.time()\n",
    "count = 1\n",
    "\n",
    "def get_pval(split_line):\n",
    "    p_val = split_line[1]\n",
    "    if p_val == \"<2e-16\" or p_val == \"<\":\n",
    "        p_val = 2e-16\n",
    "    else:\n",
    "        p_val = float(pval)\n",
    "    return pval\n",
    "\n",
    "def assign_estimate_se_z(split_line, big_fat_df, typestring):\n",
    "    big_fat_df[phe]['estimate_' + typestring] = split_line[1]\n",
    "    big_fat_df[phe]['se_' + typestring] = split_line[2]\n",
    "    big_fat_df[phe]['z_' + typestring] = split_line[3]\n",
    "    return big_fat_df\n",
    "\n",
    "for file in os.listdir(\"../scripts/output/interact/\"):\n",
    "    if file.endswith(\".txt\"):\n",
    "        phe = file.split(\"_\")[0]\n",
    "        f = open(\"../scripts/output/interact/\" + file)\n",
    "        print(count)\n",
    "        count += 1\n",
    "        print(file)\n",
    "        print(\"time: {}\\n\".format(time.time() - t0))\n",
    "        for line in f.readlines():\n",
    "            split_line = line.split('\\s+')\n",
    "            if line[0] == \"$\":\n",
    "                inter = line[2:-2]\n",
    "                big_fat_df[phe]['allelotype_pair'] = inter\n",
    "                p_line = False\n",
    "                \n",
    "            elif \"Pr(>|z|)\" in line:\n",
    "                p_line = True                \n",
    "                \n",
    "            elif split_line[0] == \"as.numeric(gcounts1)\":\n",
    "                if p_line:\n",
    "                    big_fat_df[phe]['p_add1'] = get_pval(split_line)\n",
    "                else:\n",
    "                    big_fat_df = assign_estimate_se_z(split_line, big_fat_df, 'add_1')\n",
    "\n",
    "            elif split_line[0] == \"as.numeric(gcounts2)\":\n",
    "                if p_line:\n",
    "                    big_fat_df[phe]['p_add2'] = get_pval(split_line)\n",
    "                else:\n",
    "                    big_fat_df = assign_estimate_se_z(split_line, big_fat_df, 'add_2')\n",
    "                \n",
    "            elif split_line[0] == \"as.numeric(gcounts1):as.numeric(gcounts2)\":\n",
    "                if p_line:\n",
    "                    big_fat_df[phe]['p_int'] = get_pval(split_line)\n",
    "                else:\n",
    "                    big_fat_df = assign_estimate_se_z(split_line, big_fat_df, 'int')            \n",
    "                    p_line = False\n",
    "        f.close()\n",
    "print(\"time: {}\".format(time.time() - t0))"
   ]
  },
  {
   "cell_type": "code",
   "execution_count": 38,
   "metadata": {},
   "outputs": [
    {
     "data": {
      "text/plain": [
       "array(['DRB1_404-DQB1_302', 'DRB1_404-DQA1_301', 'DQA1_501-DQB1_201', ...,\n",
       "       'A_301-B_2705', 'A_301-C_102', 'A_301-DRB1_1303'], dtype=object)"
      ]
     },
     "execution_count": 38,
     "metadata": {},
     "output_type": "execute_result"
    }
   ],
   "source": [
    "big_fat_df.head()"
   ]
  },
  {
   "cell_type": "code",
   "execution_count": 39,
   "metadata": {},
   "outputs": [],
   "source": [
    "big_fat_df.to_csv(outpath + \"interact_pvals_guhan.csv\")"
   ]
  },
  {
   "cell_type": "markdown",
   "metadata": {},
   "source": [
    "# Adjust pvalues"
   ]
  },
  {
   "cell_type": "code",
   "execution_count": 40,
   "metadata": {},
   "outputs": [
    {
     "name": "stdout",
     "output_type": "stream",
     "text": [
      "number below threshold: 191\n"
     ]
    },
    {
     "name": "stderr",
     "output_type": "stream",
     "text": [
      "/home/users/jolivier/.local/lib/python2.7/site-packages/ipykernel_launcher.py:10: RuntimeWarning: invalid value encountered in less\n",
      "  # Remove the CWD from sys.path while we load stuff.\n"
     ]
    }
   ],
   "source": [
    "thresh = 0.05\n",
    "s = big_fat_df[['p_add1', 'p_add2', 'p_int']].as_matrix().shape\n",
    "flat_df = big_fat_df[['p_add1', 'p_add2', 'p_int']].as_matrix().flatten()\n",
    "total = flat_df.shape[0]\n",
    "nom_p = robjects.FloatVector(flat_df)\n",
    "rpadjust = robjects.r['p.adjust']\n",
    "adj_p = np.array(rpadjust(nom_p, \"BY\"))\n",
    "adj_p = np.reshape(adj_p,s)\n",
    "# find the number of adjusted values below the threshold\n",
    "below_thresh = (adj_p < thresh).sum()\n",
    "adj_p_df = pd.DataFrame(adj_p, index=big_fat_df[['p_add1', 'p_add2', 'p_int']].index.values, columns=big_fat_df[['p_add1', 'p_add2', 'p_int']].columns.values)\n",
    "print(\"number below threshold: {}\".format(below_thresh))\n",
    "adj_p_df.to_csv(outpath + \"interact_pvals_adj.csv\")\n",
    "adj_p_df;"
   ]
  },
  {
   "cell_type": "code",
   "execution_count": 41,
   "metadata": {},
   "outputs": [
    {
     "name": "stdout",
     "output_type": "stream",
     "text": [
      "number of phenotypes with significant entry: 14\n",
      "number of allelotypes with significant entry: 159\n"
     ]
    }
   ],
   "source": [
    "sig_df = adj_p_df.loc[(adj_p_df < thresh).sum(axis=1) > 0, :]\n",
    "sig_df = sig_df[sig_df.columns[(sig_df< thresh).any()]]\n",
    "print(\"number of phenotypes with significant entry: {}\".format(sig_df.shape[0]))\n",
    "print(\"number of allelotypes with significant entry: {}\".format(sig_df.shape[1]))\n",
    "sig_df.to_csv(outpath + \"interact_pvals_adj_sig.csv\")\n",
    "sig_df;"
   ]
  },
  {
   "cell_type": "code",
   "execution_count": 42,
   "metadata": {},
   "outputs": [],
   "source": [
    "sig_df[sig_df < thresh].count().sort_values(ascending = False).to_csv(outpath + \"allele_sig_counts.csv\")\n",
    "T_sig_df = sig_df.transpose()\n",
    "T_sig_df[T_sig_df < thresh].count().sort_values(ascending = False).to_csv(outpath + \"phe_sig_counts.csv\")"
   ]
  },
  {
   "cell_type": "code",
   "execution_count": null,
   "metadata": {},
   "outputs": [],
   "source": []
  }
 ],
 "metadata": {
  "kernelspec": {
   "display_name": "Python 3",
   "language": "python",
   "name": "python3"
  },
  "language_info": {
   "codemirror_mode": {
    "name": "ipython",
    "version": 3
   },
   "file_extension": ".py",
   "mimetype": "text/x-python",
   "name": "python",
   "nbconvert_exporter": "python",
   "pygments_lexer": "ipython3",
   "version": "3.6.8"
  }
 },
 "nbformat": 4,
 "nbformat_minor": 2
}
