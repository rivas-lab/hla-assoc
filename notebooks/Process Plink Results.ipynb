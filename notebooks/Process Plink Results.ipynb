{
 "cells": [
  {
   "cell_type": "markdown",
   "metadata": {},
   "source": [
    "# Process Plink Results\n",
    "\n",
    "Read plink results and keep only the test results for the HLA alleles."
   ]
  },
  {
   "cell_type": "code",
   "execution_count": 11,
   "metadata": {
    "collapsed": true
   },
   "outputs": [],
   "source": [
    "import glob\n",
    "import os\n",
    "import sys\n",
    "\n",
    "import pandas as pd\n",
    "\n",
    "import cdpybio as cpb"
   ]
  },
  {
   "cell_type": "code",
   "execution_count": 29,
   "metadata": {
    "collapsed": true
   },
   "outputs": [],
   "source": [
    "outdir = os.path.realpath(os.path.join('../output/process_plink_results'))\n",
    "if not os.path.exists(outdir):\n",
    "    os.makedirs(outdir)"
   ]
  },
  {
   "cell_type": "code",
   "execution_count": 121,
   "metadata": {
    "collapsed": true
   },
   "outputs": [],
   "source": [
    "traits = pd.read_table('../data/traits.tsv', header=0, index_col=0)\n",
    "# traits = traits.drop([3, 4, 5], axis=1)\n",
    "# traits.columns = ['num_cases', 'pheno']\n",
    "# Rename cancer codes to match codes that were used in HLA analysis.\n",
    "traits.index = [x.replace('cancer', '') for x in traits.index]"
   ]
  },
  {
   "cell_type": "code",
   "execution_count": 119,
   "metadata": {
    "collapsed": false
   },
   "outputs": [
    {
     "data": {
      "text/html": [
       "<div>\n",
       "<style>\n",
       "    .dataframe thead tr:only-child th {\n",
       "        text-align: right;\n",
       "    }\n",
       "\n",
       "    .dataframe thead th {\n",
       "        text-align: left;\n",
       "    }\n",
       "\n",
       "    .dataframe tbody tr th {\n",
       "        vertical-align: top;\n",
       "    }\n",
       "</style>\n",
       "<table border=\"1\" class=\"dataframe\">\n",
       "  <thead>\n",
       "    <tr style=\"text-align: right;\">\n",
       "      <th></th>\n",
       "      <th>regtype</th>\n",
       "      <th>category</th>\n",
       "      <th>numcases</th>\n",
       "      <th>phenotype</th>\n",
       "    </tr>\n",
       "    <tr>\n",
       "      <th>code</th>\n",
       "      <th></th>\n",
       "      <th></th>\n",
       "      <th></th>\n",
       "      <th></th>\n",
       "    </tr>\n",
       "  </thead>\n",
       "  <tbody>\n",
       "    <tr>\n",
       "      <th>BIN20483</th>\n",
       "      <td>logistic</td>\n",
       "      <td>BIN</td>\n",
       "      <td>2433.0</td>\n",
       "      <td>Ever_attempted_suicide</td>\n",
       "    </tr>\n",
       "    <tr>\n",
       "      <th>BIN20484</th>\n",
       "      <td>logistic</td>\n",
       "      <td>BIN</td>\n",
       "      <td>502618.0</td>\n",
       "      <td>Attempted_suicide_vs_all</td>\n",
       "    </tr>\n",
       "    <tr>\n",
       "      <th>BIN2188</th>\n",
       "      <td>logistic</td>\n",
       "      <td>BIN</td>\n",
       "      <td>109472.0</td>\n",
       "      <td>Long-standing_illness,_disability_or_infirmity</td>\n",
       "    </tr>\n",
       "    <tr>\n",
       "      <th>BIN22126</th>\n",
       "      <td>logistic</td>\n",
       "      <td>BIN</td>\n",
       "      <td>19390.0</td>\n",
       "      <td>Doctor_diagnosed_hayfever_or_allergic_rhinitis</td>\n",
       "    </tr>\n",
       "    <tr>\n",
       "      <th>BIN22127</th>\n",
       "      <td>logistic</td>\n",
       "      <td>BIN</td>\n",
       "      <td>10841.0</td>\n",
       "      <td>Doctor_diagnosed_asthma</td>\n",
       "    </tr>\n",
       "  </tbody>\n",
       "</table>\n",
       "</div>"
      ],
      "text/plain": [
       "           regtype category  numcases  \\\n",
       "code                                    \n",
       "BIN20483  logistic      BIN    2433.0   \n",
       "BIN20484  logistic      BIN  502618.0   \n",
       "BIN2188   logistic      BIN  109472.0   \n",
       "BIN22126  logistic      BIN   19390.0   \n",
       "BIN22127  logistic      BIN   10841.0   \n",
       "\n",
       "                                               phenotype  \n",
       "code                                                      \n",
       "BIN20483                          Ever_attempted_suicide  \n",
       "BIN20484                        Attempted_suicide_vs_all  \n",
       "BIN2188   Long-standing_illness,_disability_or_infirmity  \n",
       "BIN22126  Doctor_diagnosed_hayfever_or_allergic_rhinitis  \n",
       "BIN22127                         Doctor_diagnosed_asthma  "
      ]
     },
     "execution_count": 119,
     "metadata": {},
     "output_type": "execute_result"
    }
   ],
   "source": [
    "traits.head()"
   ]
  },
  {
   "cell_type": "code",
   "execution_count": 25,
   "metadata": {
    "collapsed": true
   },
   "outputs": [],
   "source": [
    "fns = glob.glob('/oak/stanford/groups/mrivas/users/jolivier/repos/hla-assoc/data/PLINK_results/*hybrid')\n",
    "codes = [os.path.split(x)[1].split('.')[0] for x in fns]\n",
    "dfs = []\n",
    "for fn in fns:\n",
    "    t = cpb.plink.read_logistic2(fn)\n",
    "    t['code'] = os.path.split(fn)[1].split('.')[0]\n",
    "    t = t[['code', 'FIRTH?', 'TEST', 'OBS_CT', 'OR', 'SE', 'T_STAT', 'P']]\n",
    "    dfs.append(t)\n",
    "results = pd.concat(dfs)"
   ]
  },
  {
   "cell_type": "code",
   "execution_count": 30,
   "metadata": {
    "collapsed": true
   },
   "outputs": [],
   "source": [
    "fn = os.path.join(outdir, 'plink_results_all.tsv.gz')\n",
    "results.to_csv(fn, sep='\\t', compression='gzip')"
   ]
  },
  {
   "cell_type": "code",
   "execution_count": 37,
   "metadata": {
    "collapsed": true
   },
   "outputs": [],
   "source": [
    "# Filter results by allele and disease frequency\n",
    "hla = pd.read_table('/oak/stanford/groups/mrivas/ukbb/24983/hla/ukb_hla_v2.txt')\n",
    "covar = pd.read_table('/oak/stanford/groups/mrivas/ukbb/24983/phe_qc/ukb24983_GWAS_covar.phe', \n",
    "                      index_col=0)\n",
    "hla.index = covar.index\n",
    "remove = pd.read_table('/oak/stanford/groups/mrivas/ukbb/24983/phe_qc/ukb24983_remove.phe',\n",
    "                       index_col=0, header=None, squeeze=True)\n",
    "hla = hla.drop(remove)"
   ]
  },
  {
   "cell_type": "code",
   "execution_count": 82,
   "metadata": {
    "collapsed": false
   },
   "outputs": [
    {
     "data": {
      "text/plain": [
       "184"
      ]
     },
     "execution_count": 82,
     "metadata": {},
     "output_type": "execute_result"
    }
   ],
   "source": [
    "counts = (hla.fillna(0) > 0).sum()\n",
    "freqs = counts / hla.shape[0]\n",
    "(freqs >= 0.001).sum()"
   ]
  },
  {
   "cell_type": "code",
   "execution_count": 151,
   "metadata": {
    "collapsed": false
   },
   "outputs": [
    {
     "data": {
      "text/html": [
       "<div>\n",
       "<style>\n",
       "    .dataframe thead tr:only-child th {\n",
       "        text-align: right;\n",
       "    }\n",
       "\n",
       "    .dataframe thead th {\n",
       "        text-align: left;\n",
       "    }\n",
       "\n",
       "    .dataframe tbody tr th {\n",
       "        vertical-align: top;\n",
       "    }\n",
       "</style>\n",
       "<table border=\"1\" class=\"dataframe\">\n",
       "  <thead>\n",
       "    <tr style=\"text-align: right;\">\n",
       "      <th></th>\n",
       "      <th>regtype</th>\n",
       "      <th>category</th>\n",
       "      <th>numcases</th>\n",
       "      <th>phenotype</th>\n",
       "    </tr>\n",
       "  </thead>\n",
       "  <tbody>\n",
       "    <tr>\n",
       "      <th>HC69</th>\n",
       "      <td>logistic</td>\n",
       "      <td>HC</td>\n",
       "      <td>482.0</td>\n",
       "      <td>polycythaemia_vera</td>\n",
       "    </tr>\n",
       "    <tr>\n",
       "      <th>HC432</th>\n",
       "      <td>logistic</td>\n",
       "      <td>HC</td>\n",
       "      <td>487.0</td>\n",
       "      <td>mitral_valve_prolapse</td>\n",
       "    </tr>\n",
       "    <tr>\n",
       "      <th>HC421</th>\n",
       "      <td>logistic</td>\n",
       "      <td>HC</td>\n",
       "      <td>478.0</td>\n",
       "      <td>other_abdominal_problem</td>\n",
       "    </tr>\n",
       "    <tr>\n",
       "      <th>HC352</th>\n",
       "      <td>logistic</td>\n",
       "      <td>HC</td>\n",
       "      <td>474.0</td>\n",
       "      <td>systemic_lupus_erythematosis/sle</td>\n",
       "    </tr>\n",
       "    <tr>\n",
       "      <th>HC12</th>\n",
       "      <td>logistic</td>\n",
       "      <td>HC</td>\n",
       "      <td>492.0</td>\n",
       "      <td>testicular_problems_(not_cancer)</td>\n",
       "    </tr>\n",
       "  </tbody>\n",
       "</table>\n",
       "</div>"
      ],
      "text/plain": [
       "        regtype category  numcases                         phenotype\n",
       "HC69   logistic       HC     482.0                polycythaemia_vera\n",
       "HC432  logistic       HC     487.0             mitral_valve_prolapse\n",
       "HC421  logistic       HC     478.0           other_abdominal_problem\n",
       "HC352  logistic       HC     474.0  systemic_lupus_erythematosis/sle\n",
       "HC12   logistic       HC     492.0  testicular_problems_(not_cancer)"
      ]
     },
     "execution_count": 151,
     "metadata": {},
     "output_type": "execute_result"
    }
   ],
   "source": [
    "additive_res = pd.read_csv('../manuscript/additive_assoc_adj_p_all.csv', index_col=0)\n",
    "\n",
    "shared = list(set(codes) & set(traits.index))\n",
    "missing = list(set(additive_res.index) - set(traits[traits['numcases'] >= 500].index))\n",
    "traits.loc[missing]"
   ]
  },
  {
   "cell_type": "markdown",
   "metadata": {},
   "source": [
    "It seems that the number of cases for some of the diseases is less than 500\n",
    "according to the counts I have from the gcorr app. Maybe those counts aren't accurate."
   ]
  },
  {
   "cell_type": "code",
   "execution_count": null,
   "metadata": {
    "collapsed": true
   },
   "outputs": [],
   "source": []
  },
  {
   "cell_type": "code",
   "execution_count": null,
   "metadata": {
    "collapsed": true
   },
   "outputs": [],
   "source": []
  },
  {
   "cell_type": "code",
   "execution_count": null,
   "metadata": {
    "collapsed": true
   },
   "outputs": [],
   "source": []
  },
  {
   "cell_type": "code",
   "execution_count": null,
   "metadata": {
    "collapsed": true
   },
   "outputs": [],
   "source": []
  },
  {
   "cell_type": "code",
   "execution_count": null,
   "metadata": {
    "collapsed": true
   },
   "outputs": [],
   "source": []
  },
  {
   "cell_type": "code",
   "execution_count": null,
   "metadata": {
    "collapsed": true
   },
   "outputs": [],
   "source": []
  },
  {
   "cell_type": "code",
   "execution_count": null,
   "metadata": {
    "collapsed": true
   },
   "outputs": [],
   "source": []
  },
  {
   "cell_type": "code",
   "execution_count": null,
   "metadata": {
    "collapsed": true
   },
   "outputs": [],
   "source": []
  },
  {
   "cell_type": "code",
   "execution_count": null,
   "metadata": {
    "collapsed": true
   },
   "outputs": [],
   "source": []
  },
  {
   "cell_type": "code",
   "execution_count": null,
   "metadata": {
    "collapsed": true
   },
   "outputs": [],
   "source": []
  }
 ],
 "metadata": {
  "hide_input": false,
  "kernelspec": {
   "display_name": "Python 2",
   "language": "python",
   "name": "python2"
  },
  "language_info": {
   "codemirror_mode": {
    "name": "ipython",
    "version": 2
   },
   "file_extension": ".py",
   "mimetype": "text/x-python",
   "name": "python",
   "nbconvert_exporter": "python",
   "pygments_lexer": "ipython2",
   "version": "2.7.13"
  },
  "latex_envs": {
   "LaTeX_envs_menu_present": true,
   "autocomplete": true,
   "bibliofile": "biblio.bib",
   "cite_by": "apalike",
   "current_citInitial": 1,
   "eqLabelWithNumbers": true,
   "eqNumInitial": 1,
   "hotkeys": {
    "equation": "Ctrl-E",
    "itemize": "Ctrl-I"
   },
   "labels_anchors": false,
   "latex_user_defs": false,
   "report_style_numbering": false,
   "user_envs_cfg": false
  },
  "toc": {
   "colors": {
    "hover_highlight": "#DAA520",
    "navigate_num": "#000000",
    "navigate_text": "#333333",
    "running_highlight": "#FF0000",
    "selected_highlight": "#FFD700",
    "sidebar_border": "#EEEEEE",
    "wrapper_background": "#FFFFFF"
   },
   "moveMenuLeft": true,
   "nav_menu": {
    "height": "30px",
    "width": "252px"
   },
   "navigate_menu": true,
   "number_sections": true,
   "sideBar": true,
   "threshold": 4,
   "toc_cell": false,
   "toc_section_display": "block",
   "toc_window_display": false,
   "widenNotebook": false
  }
 },
 "nbformat": 4,
 "nbformat_minor": 2
}
