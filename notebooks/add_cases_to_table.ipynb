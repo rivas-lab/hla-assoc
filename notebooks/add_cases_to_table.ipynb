{
 "cells": [
  {
   "cell_type": "code",
   "execution_count": 57,
   "metadata": {},
   "outputs": [],
   "source": [
    "import pandas as pd"
   ]
  },
  {
   "cell_type": "code",
   "execution_count": 58,
   "metadata": {},
   "outputs": [],
   "source": [
    "cases_tbl = pd.read_table('../data/traits.tsv')[['code', 'numcases']]\n",
    "cases_tbl = cases_tbl[cases_tbl['numcases'].notna()]\n",
    "cases_tbl['numcases'] = cases_tbl['numcases'].astype(int)"
   ]
  },
  {
   "cell_type": "code",
   "execution_count": 59,
   "metadata": {},
   "outputs": [],
   "source": [
    "tbl = pd.read_table('../manuscript/complete_add_gen_aic.tsv')"
   ]
  },
  {
   "cell_type": "code",
   "execution_count": 60,
   "metadata": {},
   "outputs": [],
   "source": [
    "tbl = tbl.merge(cases_tbl, left_on='phenotype', right_on='code').drop(columns=['code'])"
   ]
  },
  {
   "cell_type": "code",
   "execution_count": 63,
   "metadata": {},
   "outputs": [],
   "source": [
    "tbl.sort_values(['allelotype', 'phenotype']).to_csv('../manuscript/complete_add_gen_aic_cases.tsv', sep='\\t', index=False)"
   ]
  }
 ],
 "metadata": {
  "kernelspec": {
   "display_name": "Python 3",
   "language": "python",
   "name": "python3"
  },
  "language_info": {
   "codemirror_mode": {
    "name": "ipython",
    "version": 3
   },
   "file_extension": ".py",
   "mimetype": "text/x-python",
   "name": "python",
   "nbconvert_exporter": "python",
   "pygments_lexer": "ipython3",
   "version": "3.6.8"
  }
 },
 "nbformat": 4,
 "nbformat_minor": 2
}
